{
 "cells": [
  {
   "cell_type": "code",
   "execution_count": 1,
   "id": "57705e4b-c90c-4994-a38d-24052ecd704a",
   "metadata": {},
   "outputs": [
    {
     "data": {
      "text/html": [
       "<div>\n",
       "<style scoped>\n",
       "    .dataframe tbody tr th:only-of-type {\n",
       "        vertical-align: middle;\n",
       "    }\n",
       "\n",
       "    .dataframe tbody tr th {\n",
       "        vertical-align: top;\n",
       "    }\n",
       "\n",
       "    .dataframe thead th {\n",
       "        text-align: right;\n",
       "    }\n",
       "</style>\n",
       "<table border=\"1\" class=\"dataframe\">\n",
       "  <thead>\n",
       "    <tr style=\"text-align: right;\">\n",
       "      <th></th>\n",
       "      <th>micode</th>\n",
       "      <th>name</th>\n",
       "      <th>address</th>\n",
       "      <th>phone</th>\n",
       "    </tr>\n",
       "  </thead>\n",
       "  <tbody>\n",
       "    <tr>\n",
       "      <th>0</th>\n",
       "      <td>01-4036-7</td>\n",
       "      <td>有限会社　ヒエ薬局</td>\n",
       "      <td>〒760－0049高松市八坂町１番地６</td>\n",
       "      <td>087-821-4024</td>\n",
       "    </tr>\n",
       "    <tr>\n",
       "      <th>1</th>\n",
       "      <td>高薬36</td>\n",
       "      <td>NaN</td>\n",
       "      <td>NaN</td>\n",
       "      <td>常　勤:　　　 1</td>\n",
       "    </tr>\n",
       "    <tr>\n",
       "      <th>2</th>\n",
       "      <td>NaN</td>\n",
       "      <td>NaN</td>\n",
       "      <td>NaN</td>\n",
       "      <td>(薬　　　　 1)</td>\n",
       "    </tr>\n",
       "    <tr>\n",
       "      <th>3</th>\n",
       "      <td>01-4075-5</td>\n",
       "      <td>有限会社　寅野薬局</td>\n",
       "      <td>〒761－0104高松市高松町２５８８番地</td>\n",
       "      <td>087-841-9214</td>\n",
       "    </tr>\n",
       "    <tr>\n",
       "      <th>4</th>\n",
       "      <td>高薬75</td>\n",
       "      <td>NaN</td>\n",
       "      <td>NaN</td>\n",
       "      <td>常　勤:　　　 1</td>\n",
       "    </tr>\n",
       "  </tbody>\n",
       "</table>\n",
       "</div>"
      ],
      "text/plain": [
       "      micode       name                address         phone\n",
       "0  01-4036-7  有限会社　ヒエ薬局    〒760－0049高松市八坂町１番地６  087-821-4024\n",
       "1       高薬36        NaN                    NaN     常　勤:　　　 1\n",
       "2        NaN        NaN                    NaN     (薬　　　　 1)\n",
       "3  01-4075-5  有限会社　寅野薬局  〒761－0104高松市高松町２５８８番地  087-841-9214\n",
       "4       高薬75        NaN                    NaN     常　勤:　　　 1"
      ]
     },
     "execution_count": 1,
     "metadata": {},
     "output_type": "execute_result"
    }
   ],
   "source": [
    "import pandas as pd\n",
    "\n",
    "df = pd.read_csv(\"dir/path\")\n",
    "df.head()"
   ]
  },
  {
   "cell_type": "code",
   "execution_count": 2,
   "id": "209d80d9-6e2f-4e79-aed3-4e61a60a6d2e",
   "metadata": {},
   "outputs": [
    {
     "data": {
      "text/html": [
       "<div>\n",
       "<style scoped>\n",
       "    .dataframe tbody tr th:only-of-type {\n",
       "        vertical-align: middle;\n",
       "    }\n",
       "\n",
       "    .dataframe tbody tr th {\n",
       "        vertical-align: top;\n",
       "    }\n",
       "\n",
       "    .dataframe thead th {\n",
       "        text-align: right;\n",
       "    }\n",
       "</style>\n",
       "<table border=\"1\" class=\"dataframe\">\n",
       "  <thead>\n",
       "    <tr style=\"text-align: right;\">\n",
       "      <th></th>\n",
       "      <th>micode</th>\n",
       "      <th>name</th>\n",
       "      <th>address</th>\n",
       "      <th>phone</th>\n",
       "    </tr>\n",
       "  </thead>\n",
       "  <tbody>\n",
       "    <tr>\n",
       "      <th>0</th>\n",
       "      <td>01-4036-7</td>\n",
       "      <td>有限会社　ヒエ薬局</td>\n",
       "      <td>〒760－0049高松市八坂町１番地６</td>\n",
       "      <td>087-821-4024</td>\n",
       "    </tr>\n",
       "    <tr>\n",
       "      <th>3</th>\n",
       "      <td>01-4075-5</td>\n",
       "      <td>有限会社　寅野薬局</td>\n",
       "      <td>〒761－0104高松市高松町２５８８番地</td>\n",
       "      <td>087-841-9214</td>\n",
       "    </tr>\n",
       "    <tr>\n",
       "      <th>6</th>\n",
       "      <td>01-4082-1</td>\n",
       "      <td>有限会社　南天堂薬局</td>\n",
       "      <td>〒760－0047高松市塩屋町６番地４</td>\n",
       "      <td>087-821-8486</td>\n",
       "    </tr>\n",
       "    <tr>\n",
       "      <th>11</th>\n",
       "      <td>01-4100-1</td>\n",
       "      <td>有限会社　丸福薬局</td>\n",
       "      <td>〒760－0077高松市上福岡町１２０９番地３</td>\n",
       "      <td>087-861-5506</td>\n",
       "    </tr>\n",
       "    <tr>\n",
       "      <th>14</th>\n",
       "      <td>01-4119-1</td>\n",
       "      <td>有限会社　中央堂薬局</td>\n",
       "      <td>〒760－0054高松市常磐町一丁目１０番地１</td>\n",
       "      <td>087-831-5243</td>\n",
       "    </tr>\n",
       "  </tbody>\n",
       "</table>\n",
       "</div>"
      ],
      "text/plain": [
       "       micode        name                  address         phone\n",
       "0   01-4036-7   有限会社　ヒエ薬局      〒760－0049高松市八坂町１番地６  087-821-4024\n",
       "3   01-4075-5   有限会社　寅野薬局    〒761－0104高松市高松町２５８８番地  087-841-9214\n",
       "6   01-4082-1  有限会社　南天堂薬局      〒760－0047高松市塩屋町６番地４  087-821-8486\n",
       "11  01-4100-1   有限会社　丸福薬局  〒760－0077高松市上福岡町１２０９番地３  087-861-5506\n",
       "14  01-4119-1  有限会社　中央堂薬局  〒760－0054高松市常磐町一丁目１０番地１  087-831-5243"
      ]
     },
     "execution_count": 2,
     "metadata": {},
     "output_type": "execute_result"
    }
   ],
   "source": [
    "df_drop = df.dropna(how='any')\n",
    "df_drop.head()"
   ]
  },
  {
   "cell_type": "code",
   "execution_count": 3,
   "id": "c484d7c4-bfac-4233-86ef-ea2f7c16b045",
   "metadata": {},
   "outputs": [],
   "source": [
    "df_drop.to_csv(\"dir/path\", index=False)"
   ]
  }
 ],
 "metadata": {
  "kernelspec": {
   "display_name": "Python 3 (ipykernel)",
   "language": "python",
   "name": "python3"
  },
  "language_info": {
   "codemirror_mode": {
    "name": "ipython",
    "version": 3
   },
   "file_extension": ".py",
   "mimetype": "text/x-python",
   "name": "python",
   "nbconvert_exporter": "python",
   "pygments_lexer": "ipython3",
   "version": "3.10.5"
  }
 },
 "nbformat": 4,
 "nbformat_minor": 5
}
